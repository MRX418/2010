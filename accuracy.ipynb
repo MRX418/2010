{
  "nbformat": 4,
  "nbformat_minor": 0,
  "metadata": {
    "colab": {
      "provenance": [],
      "authorship_tag": "ABX9TyPlQawqEzcksIT4MUD9XPeb",
      "include_colab_link": true
    },
    "kernelspec": {
      "name": "python3",
      "display_name": "Python 3"
    },
    "language_info": {
      "name": "python"
    }
  },
  "cells": [
    {
      "cell_type": "markdown",
      "metadata": {
        "id": "view-in-github",
        "colab_type": "text"
      },
      "source": [
        "<a href=\"https://colab.research.google.com/github/MRX418/2010/blob/main/accuracy.ipynb\" target=\"_parent\"><img src=\"https://colab.research.google.com/assets/colab-badge.svg\" alt=\"Open In Colab\"/></a>"
      ]
    },
    {
      "cell_type": "code",
      "source": [
        "pip install pydicom"
      ],
      "metadata": {
        "colab": {
          "base_uri": "https://localhost:8080/"
        },
        "id": "FadI3lELDJ_y",
        "outputId": "a3b95be0-4c4d-486e-955c-9d397c503a3c"
      },
      "execution_count": 62,
      "outputs": [
        {
          "output_type": "stream",
          "name": "stdout",
          "text": [
            "Looking in indexes: https://pypi.org/simple, https://us-python.pkg.dev/colab-wheels/public/simple/\n",
            "Requirement already satisfied: pydicom in /usr/local/lib/python3.8/dist-packages (2.3.1)\n"
          ]
        }
      ]
    },
    {
      "cell_type": "code",
      "source": [
        "pip install xlsxwriter"
      ],
      "metadata": {
        "colab": {
          "base_uri": "https://localhost:8080/"
        },
        "id": "4KZvSWgTadAT",
        "outputId": "ac752205-5d7b-4424-cb17-ac2f7b998adf"
      },
      "execution_count": 61,
      "outputs": [
        {
          "output_type": "stream",
          "name": "stdout",
          "text": [
            "Looking in indexes: https://pypi.org/simple, https://us-python.pkg.dev/colab-wheels/public/simple/\n",
            "Requirement already satisfied: xlsxwriter in /usr/local/lib/python3.8/dist-packages (3.0.3)\n"
          ]
        }
      ]
    },
    {
      "cell_type": "code",
      "execution_count": 63,
      "metadata": {
        "id": "58yHyxFvDAog"
      },
      "outputs": [],
      "source": [
        "\n",
        "import pandas as pd\n",
        "import cv2\n",
        "import pydicom\n",
        "import numpy as np\n",
        "import matplotlib.pyplot as plt\n",
        "from skimage import exposure, measure\n",
        "from scipy import ndimage\n",
        "import os\n",
        "import xlsxwriter\n",
        "from google.colab import output\n",
        "\n",
        "workbook = xlsxwriter.Workbook('accuracy101.xlsx')\n",
        "worksheet = workbook.add_worksheet()\n",
        "worksheet.write('A1', 'image')\n",
        "worksheet.write('B1', 'accuracy')\n",
        "f = os.listdir(\"sample_data/image\")\n",
        "images=[]\n",
        "for image in f:\n",
        "  name = image.split(\".\")\n",
        "  if name[1] == 'dcm':\n",
        "    images.append(image)\n",
        "def algo(file):\n",
        "  file1= images[file]\n",
        "\n",
        "  images1= pydicom.read_file(file1);\n",
        "  img_data1 = images1.pixel_array\n",
        "\n",
        "  fig2 = plt.figure()\n",
        "  plt.imshow(img_data1, cmap=\"gray\")\n",
        "\n",
        "\n",
        "  y = (img_data1<=-1000)*-1000 + (img_data1>=400)*400 + ((400>img_data1) & (img_data1>-1000)) * img_data1\n",
        "  norm = cv2.normalize(y, None, alpha=0, beta=1, norm_type=cv2.NORM_MINMAX, dtype=cv2.CV_32F)\n",
        "  th = norm<.95\n",
        "  th = np.double(th*255)\n",
        "  kernel1 = np.ones((3,3), np.uint8)\n",
        "  th = cv2.erode(th, kernel1, iterations=1)\n",
        "  all_labels = measure.label(th)\n",
        "  th[all_labels==all_labels[0,0]]=0\n",
        "  th[all_labels==all_labels[-1,-1]]=0\n",
        "  th1 = ndimage.binary_fill_holes(th,  structure=np.ones((3,3))).astype(int)\n",
        "  all_labels = measure.label(th1)\n",
        "\n",
        "  for i in range(np.max(all_labels)+1):\n",
        "    k = np.sum(all_labels==i)\n",
        "    if k<500:\n",
        "      th1[all_labels==i]=0\n",
        "\n",
        "  kernel = np.ones((30,30), np.uint8)\n",
        "  kernel1 = np.ones((7,7), np.uint8)\n",
        "  th2 = np.double(th1*255)\n",
        "  img_dilation = cv2.dilate(th2, kernel, iterations=1)\n",
        "  img_erosion = cv2.erode(img_dilation, kernel1, iterations=2)\n",
        "\n",
        "\n",
        "  fig2 = plt.figure()\n",
        "  plt.imshow((img_erosion>0)*img_data1, cmap=\"gray\")\n",
        "  plt.pause(.001)\n",
        "  return\n",
        "\n",
        "row = 1\n",
        "column = 1\n",
        "for file in range(len(images)):\n",
        "  algo(file);\n",
        "  worksheet.write(row, column, input('Enter accuracy:'))\n",
        "  worksheet.write(row, column-1, images[file])\n",
        "  row += 1\n",
        "  #os.system('cls')\n",
        "  output.clear()\n",
        " \n",
        "# Finally, close the Excel file\n",
        "# via the close() method.\n",
        "workbook.close()\n",
        "\n"
      ]
    },
    {
      "cell_type": "code",
      "source": [
        "from google.colab import drive\n",
        "drive.mount('/content/drive')"
      ],
      "metadata": {
        "id": "EQWmYco0W948"
      },
      "execution_count": null,
      "outputs": []
    }
  ]
}